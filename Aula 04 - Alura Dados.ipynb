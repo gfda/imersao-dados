{
 "cells": [
  {
   "cell_type": "code",
   "execution_count": 28,
   "metadata": {},
   "outputs": [],
   "source": [
    "import pandas as pd\n",
    "import seaborn as sns\n",
    "import matplotlib.pyplot as plt\n",
    "from sklearn.model_selection import train_test_split\n",
    "from sklearn.svm import LinearSVR\n",
    "from sklearn.dummy import DummyRegressor\n",
    "from sklearn.metrics import mean_squared_error\n",
    "\n",
    "# Dados\n",
    "fonte = 'https://github.com/alura-cursos/imersao-dados-2-2020/blob/master/MICRODADOS_ENEM_2019_SAMPLE_43278.csv?raw=true'\n",
    "dados = pd.read_csv(fonte)\n",
    "\n",
    "# Nota total\n",
    "provas = [\"NU_NOTA_CN\", \"NU_NOTA_CH\", \"NU_NOTA_MT\", \"NU_NOTA_LC\", \"NU_NOTA_REDACAO\"]\n",
    "dados[\"NU_NOTA_TOTAL\"] = dados[provas].sum(axis=1)\n",
    "provas.append(\"NU_NOTA_TOTAL\")\n",
    "\n",
    "# Nota das provas que não zeraram\n",
    "nao_zerou = dados.query(\"NU_NOTA_TOTAL != 0\")\n"
   ]
  },
  {
   "cell_type": "code",
   "execution_count": 15,
   "metadata": {},
   "outputs": [],
   "source": [
    "provas_entrada = [\"NU_NOTA_CN\", \"NU_NOTA_CH\", \"NU_NOTA_LC\", \"NU_NOTA_REDACAO\"]\n",
    "prova_saida = \"NU_NOTA_MT\"\n",
    "\n",
    "nao_zerou = nao_zerou[provas].dropna()\n",
    "\n",
    "notas_entrada = nao_zerou[provas_entrada]\n",
    "notas_saida = nao_zerou[prova_saida]"
   ]
  },
  {
   "cell_type": "code",
   "execution_count": 19,
   "metadata": {},
   "outputs": [],
   "source": [
    "SEED = 4321\n",
    "\n",
    "x_treino, x_teste, y_treino, y_teste = train_test_split(notas_entrada, notas_saida, test_size=0.25, random_state=SEED)"
   ]
  },
  {
   "cell_type": "code",
   "execution_count": 20,
   "metadata": {},
   "outputs": [
    {
     "data": {
      "text/html": [
       "<div>\n",
       "<style scoped>\n",
       "    .dataframe tbody tr th:only-of-type {\n",
       "        vertical-align: middle;\n",
       "    }\n",
       "\n",
       "    .dataframe tbody tr th {\n",
       "        vertical-align: top;\n",
       "    }\n",
       "\n",
       "    .dataframe thead th {\n",
       "        text-align: right;\n",
       "    }\n",
       "</style>\n",
       "<table border=\"1\" class=\"dataframe\">\n",
       "  <thead>\n",
       "    <tr style=\"text-align: right;\">\n",
       "      <th></th>\n",
       "      <th>NU_NOTA_CN</th>\n",
       "      <th>NU_NOTA_CH</th>\n",
       "      <th>NU_NOTA_LC</th>\n",
       "      <th>NU_NOTA_REDACAO</th>\n",
       "    </tr>\n",
       "  </thead>\n",
       "  <tbody>\n",
       "    <tr>\n",
       "      <th>90200</th>\n",
       "      <td>542.7</td>\n",
       "      <td>567.7</td>\n",
       "      <td>523.2</td>\n",
       "      <td>660.0</td>\n",
       "    </tr>\n",
       "    <tr>\n",
       "      <th>12375</th>\n",
       "      <td>445.2</td>\n",
       "      <td>497.1</td>\n",
       "      <td>423.0</td>\n",
       "      <td>580.0</td>\n",
       "    </tr>\n",
       "    <tr>\n",
       "      <th>46320</th>\n",
       "      <td>454.0</td>\n",
       "      <td>494.0</td>\n",
       "      <td>528.5</td>\n",
       "      <td>520.0</td>\n",
       "    </tr>\n",
       "    <tr>\n",
       "      <th>111208</th>\n",
       "      <td>385.8</td>\n",
       "      <td>561.9</td>\n",
       "      <td>572.7</td>\n",
       "      <td>640.0</td>\n",
       "    </tr>\n",
       "    <tr>\n",
       "      <th>75943</th>\n",
       "      <td>625.7</td>\n",
       "      <td>686.5</td>\n",
       "      <td>646.5</td>\n",
       "      <td>900.0</td>\n",
       "    </tr>\n",
       "  </tbody>\n",
       "</table>\n",
       "</div>"
      ],
      "text/plain": [
       "        NU_NOTA_CN  NU_NOTA_CH  NU_NOTA_LC  NU_NOTA_REDACAO\n",
       "90200        542.7       567.7       523.2            660.0\n",
       "12375        445.2       497.1       423.0            580.0\n",
       "46320        454.0       494.0       528.5            520.0\n",
       "111208       385.8       561.9       572.7            640.0\n",
       "75943        625.7       686.5       646.5            900.0"
      ]
     },
     "execution_count": 20,
     "metadata": {},
     "output_type": "execute_result"
    }
   ],
   "source": [
    "x_treino.head()"
   ]
  },
  {
   "cell_type": "code",
   "execution_count": 22,
   "metadata": {},
   "outputs": [
    {
     "name": "stderr",
     "output_type": "stream",
     "text": [
      "/home/gustavo/Projects/imersao-dados/venv/lib/python3.6/site-packages/sklearn/svm/_base.py:977: ConvergenceWarning: Liblinear failed to converge, increase the number of iterations.\n",
      "  \"the number of iterations.\", ConvergenceWarning)\n"
     ]
    },
    {
     "data": {
      "text/plain": [
       "LinearSVR(random_state=4321)"
      ]
     },
     "execution_count": 22,
     "metadata": {},
     "output_type": "execute_result"
    }
   ],
   "source": [
    "modelo = LinearSVR(random_state=SEED)\n",
    "modelo.fit(x_treino, y_treino)"
   ]
  },
  {
   "cell_type": "code",
   "execution_count": 25,
   "metadata": {},
   "outputs": [],
   "source": [
    "predicoes_matematica = modelo.predict(x_teste)"
   ]
  },
  {
   "cell_type": "code",
   "execution_count": 24,
   "metadata": {},
   "outputs": [
    {
     "data": {
      "text/plain": [
       "114991    459.7\n",
       "104685    617.2\n",
       "91028     520.0\n",
       "115802    703.8\n",
       "93303     627.1\n",
       "Name: NU_NOTA_MT, dtype: float64"
      ]
     },
     "execution_count": 24,
     "metadata": {},
     "output_type": "execute_result"
    }
   ],
   "source": [
    "y_teste[:5]"
   ]
  },
  {
   "cell_type": "code",
   "execution_count": 26,
   "metadata": {},
   "outputs": [
    {
     "data": {
      "text/plain": [
       "(-50.0, 1050.0)"
      ]
     },
     "execution_count": 26,
     "metadata": {},
     "output_type": "execute_result"
    },
    {
     "data": {
      "image/png": "[encoded data removed]",
      "text/plain": [
       "<Figure size 576x576 with 1 Axes>"
      ]
     },
     "metadata": {
      "needs_background": "light"
     },
     "output_type": "display_data"
    }
   ],
   "source": [
    "plt.figure(figsize=(8, 8))\n",
    "sns.scatterplot(x=predicoes_matematica, y=y_teste)\n",
    "plt.xlim((-50, 1050))\n",
    "plt.ylim((-50, 1050))"
   ]
  },
  {
   "cell_type": "code",
   "execution_count": 29,
   "metadata": {},
   "outputs": [
    {
     "data": {
      "text/html": [
       "<div>\n",
       "<style scoped>\n",
       "    .dataframe tbody tr th:only-of-type {\n",
       "        vertical-align: middle;\n",
       "    }\n",
       "\n",
       "    .dataframe tbody tr th {\n",
       "        vertical-align: top;\n",
       "    }\n",
       "\n",
       "    .dataframe thead th {\n",
       "        text-align: right;\n",
       "    }\n",
       "</style>\n",
       "<table border=\"1\" class=\"dataframe\">\n",
       "  <thead>\n",
       "    <tr style=\"text-align: right;\">\n",
       "      <th></th>\n",
       "      <th>Real</th>\n",
       "      <th>Previsao</th>\n",
       "      <th>Diferenca</th>\n",
       "      <th>Diferenca²</th>\n",
       "    </tr>\n",
       "  </thead>\n",
       "  <tbody>\n",
       "    <tr>\n",
       "      <th>114991</th>\n",
       "      <td>459.7</td>\n",
       "      <td>420.319501</td>\n",
       "      <td>39.380499</td>\n",
       "      <td>1550.823695</td>\n",
       "    </tr>\n",
       "    <tr>\n",
       "      <th>104685</th>\n",
       "      <td>617.2</td>\n",
       "      <td>478.717001</td>\n",
       "      <td>138.482999</td>\n",
       "      <td>19177.541062</td>\n",
       "    </tr>\n",
       "    <tr>\n",
       "      <th>91028</th>\n",
       "      <td>520.0</td>\n",
       "      <td>385.706927</td>\n",
       "      <td>134.293073</td>\n",
       "      <td>18034.629483</td>\n",
       "    </tr>\n",
       "    <tr>\n",
       "      <th>115802</th>\n",
       "      <td>703.8</td>\n",
       "      <td>459.039807</td>\n",
       "      <td>244.760193</td>\n",
       "      <td>59907.551863</td>\n",
       "    </tr>\n",
       "    <tr>\n",
       "      <th>93303</th>\n",
       "      <td>627.1</td>\n",
       "      <td>441.995627</td>\n",
       "      <td>185.104373</td>\n",
       "      <td>34263.628799</td>\n",
       "    </tr>\n",
       "    <tr>\n",
       "      <th>...</th>\n",
       "      <td>...</td>\n",
       "      <td>...</td>\n",
       "      <td>...</td>\n",
       "      <td>...</td>\n",
       "    </tr>\n",
       "    <tr>\n",
       "      <th>81393</th>\n",
       "      <td>688.6</td>\n",
       "      <td>482.168386</td>\n",
       "      <td>206.431614</td>\n",
       "      <td>42614.011438</td>\n",
       "    </tr>\n",
       "    <tr>\n",
       "      <th>40159</th>\n",
       "      <td>479.1</td>\n",
       "      <td>489.849362</td>\n",
       "      <td>-10.749362</td>\n",
       "      <td>115.548776</td>\n",
       "    </tr>\n",
       "    <tr>\n",
       "      <th>64083</th>\n",
       "      <td>501.4</td>\n",
       "      <td>471.762378</td>\n",
       "      <td>29.637622</td>\n",
       "      <td>878.388662</td>\n",
       "    </tr>\n",
       "    <tr>\n",
       "      <th>84661</th>\n",
       "      <td>772.5</td>\n",
       "      <td>540.546723</td>\n",
       "      <td>231.953277</td>\n",
       "      <td>53802.322714</td>\n",
       "    </tr>\n",
       "    <tr>\n",
       "      <th>79106</th>\n",
       "      <td>369.0</td>\n",
       "      <td>353.780447</td>\n",
       "      <td>15.219553</td>\n",
       "      <td>231.634795</td>\n",
       "    </tr>\n",
       "  </tbody>\n",
       "</table>\n",
       "<p>23135 rows × 4 columns</p>\n",
       "</div>"
      ],
      "text/plain": [
       "         Real    Previsao   Diferenca    Diferenca²\n",
       "114991  459.7  420.319501   39.380499   1550.823695\n",
       "104685  617.2  478.717001  138.482999  19177.541062\n",
       "91028   520.0  385.706927  134.293073  18034.629483\n",
       "115802  703.8  459.039807  244.760193  59907.551863\n",
       "93303   627.1  441.995627  185.104373  34263.628799\n",
       "...       ...         ...         ...           ...\n",
       "81393   688.6  482.168386  206.431614  42614.011438\n",
       "40159   479.1  489.849362  -10.749362    115.548776\n",
       "64083   501.4  471.762378   29.637622    878.388662\n",
       "84661   772.5  540.546723  231.953277  53802.322714\n",
       "79106   369.0  353.780447   15.219553    231.634795\n",
       "\n",
       "[23135 rows x 4 columns]"
      ]
     },
     "execution_count": 29,
     "metadata": {},
     "output_type": "execute_result"
    }
   ],
   "source": [
    "resultados = pd.DataFrame()\n",
    "resultados[\"Real\"] = y_teste\n",
    "resultados[\"Previsao\"] = predicoes_matematica\n",
    "resultados[\"Diferenca\"] = resultados[\"Real\"] - resultados[\"Previsao\"]\n",
    "resultados[\"Diferenca²\"] = (resultados[\"Real\"] - resultados[\"Previsao\"])**2\n",
    "resultados"
   ]
  },
  {
   "cell_type": "code",
   "execution_count": 30,
   "metadata": {},
   "outputs": [
    {
     "data": {
      "text/plain": [
       "12063.645588509502"
      ]
     },
     "execution_count": 30,
     "metadata": {},
     "output_type": "execute_result"
    }
   ],
   "source": [
    "modelo_dummy = DummyRegressor()\n",
    "modelo_dummy.fit(x_treino, y_treino)\n",
    "dummy_predicoes = modelo_dummy.predict(x_teste)\n",
    "mean_squared_error(y_teste, dummy_predicoes)"
   ]
  },
  {
   "cell_type": "code",
   "execution_count": null,
   "metadata": {},
   "outputs": [],
   "source": []
  }
 ],
 "metadata": {
  "kernelspec": {
   "display_name": "venv",
   "language": "python",
   "name": "venv"
  },
  "language_info": {
   "codemirror_mode": {
    "name": "ipython",
    "version": 3
   },
   "file_extension": ".py",
   "mimetype": "text/x-python",
   "name": "python",
   "nbconvert_exporter": "python",
   "pygments_lexer": "ipython3",
   "version": "3.6.9"
  }
 },
 "nbformat": 4,
 "nbformat_minor": 2
}
