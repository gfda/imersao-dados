{
 "cells": [
  {
   "cell_type": "code",
   "execution_count": 13,
   "metadata": {},
   "outputs": [],
   "source": [
    "import pandas as pd\n",
    "import seaborn as sns\n",
    "import matplotlib.pyplot as plt\n",
    "from sklearn.model_selection import train_test_split\n",
    "from sklearn.svm import LinearSVR\n",
    "from sklearn.dummy import DummyRegressor\n",
    "from sklearn.metrics import mean_squared_error\n",
    "from sklearn.tree import DecisionTreeRegressor\n",
    "from sklearn.model_selection import cross_validate\n",
    "\n",
    "\n",
    "# Dados\n",
    "fonte = 'https://github.com/alura-cursos/imersao-dados-2-2020/blob/master/MICRODADOS_ENEM_2019_SAMPLE_43278.csv?raw=true'\n",
    "dados = pd.read_csv(fonte)\n",
    "\n",
    "# Nota total\n",
    "provas = [\"NU_NOTA_CN\", \"NU_NOTA_CH\", \"NU_NOTA_MT\", \"NU_NOTA_LC\", \"NU_NOTA_REDACAO\"]\n",
    "dados[\"NU_NOTA_TOTAL\"] = dados[provas].sum(axis=1)\n",
    "provas.append(\"NU_NOTA_TOTAL\")\n",
    "\n",
    "# Nota das provas que não zeraram\n",
    "nao_zerou = dados.query(\"NU_NOTA_TOTAL != 0\")\n"
   ]
  },
  {
   "cell_type": "code",
   "execution_count": 8,
   "metadata": {},
   "outputs": [],
   "source": [
    "provas_entrada = [\"NU_NOTA_CN\", \"NU_NOTA_CH\", \"NU_NOTA_LC\", \"NU_NOTA_REDACAO\"]\n",
    "prova_saida = \"NU_NOTA_MT\"\n",
    "\n",
    "nao_zerou = nao_zerou[provas].dropna()\n",
    "\n",
    "notas_entrada = nao_zerou[provas_entrada]\n",
    "notas_saida = nao_zerou[prova_saida]"
   ]
  },
  {
   "cell_type": "code",
   "execution_count": 12,
   "metadata": {},
   "outputs": [
    {
     "data": {
      "text/plain": [
       "6115.26065423655"
      ]
     },
     "execution_count": 12,
     "metadata": {},
     "output_type": "execute_result"
    }
   ],
   "source": [
    "x_treino, x_teste, y_treino, y_teste = train_test_split(notas_entrada, notas_saida, test_size=0.25)\n",
    "\n",
    "modelo_arvore = DecisionTreeRegressor(max_depth=3)\n",
    "modelo_arvore.fit(x_treino, y_treino)\n",
    "\n",
    "predicoes_mat_arvore = modelo_arvore.predict(x_teste)\n",
    "\n",
    "mean_squared_error(y_teste, predicoes_mat_arvore)"
   ]
  },
  {
   "cell_type": "code",
   "execution_count": 16,
   "metadata": {},
   "outputs": [
    {
     "data": {
      "text/plain": [
       "{'fit_time': array([0.06579852, 0.05772471, 0.05155134, 0.05059385, 0.05197954,\n",
       "        0.05179429, 0.0513742 , 0.0504756 , 0.05140114, 0.05117297]),\n",
       " 'score_time': array([0.00211406, 0.00217509, 0.00215864, 0.00218034, 0.00215936,\n",
       "        0.00217104, 0.0021832 , 0.00217867, 0.00216031, 0.00219107]),\n",
       " 'test_score': array([-6118.6911947 , -6536.09830186, -6338.64260896, -6456.70685686,\n",
       "        -6234.97203593, -6794.25120283, -6713.45694262, -6693.04880297,\n",
       "        -6610.58461646, -7085.82408339])}"
      ]
     },
     "execution_count": 16,
     "metadata": {},
     "output_type": "execute_result"
    }
   ],
   "source": [
    "modelo_arvore = DecisionTreeRegressor(max_depth=2)\n",
    "cross_validate(modelo_arvore, notas_entrada, notas_saida, cv=10, scoring=\"neg_mean_squared_error\")"
   ]
  },
  {
   "cell_type": "code",
   "execution_count": 20,
   "metadata": {},
   "outputs": [
    {
     "data": {
      "text/plain": [
       "{'fit_time': array([0.06174636, 0.05185032, 0.05100846, 0.05210376, 0.0533042 ,\n",
       "        0.05078626, 0.05173469, 0.05162954, 0.05237865, 0.05147338]),\n",
       " 'score_time': array([0.00223613, 0.00221539, 0.00220299, 0.0021944 , 0.00219321,\n",
       "        0.00234485, 0.00216484, 0.00213861, 0.00204587, 0.00214529]),\n",
       " 'test_score': array([-6415.49542109, -6428.46080207, -6495.00611061, -6654.34052317,\n",
       "        -6533.59848794, -6755.61908227, -6534.44559998, -6570.42476948,\n",
       "        -6486.86865141, -6760.715922  ])}"
      ]
     },
     "execution_count": 20,
     "metadata": {},
     "output_type": "execute_result"
    }
   ],
   "source": [
    "from sklearn.model_selection import KFold\n",
    "import numpy as np\n",
    "\n",
    "SEED=1234\n",
    "np.random.seed(SEED)\n",
    "\n",
    "partes = KFold(n_splits=10, shuffle=True)\n",
    "cross_validate(modelo_arvore, notas_entrada, notas_saida, cv=partes, scoring=\"neg_mean_squared_error\")"
   ]
  },
  {
   "cell_type": "code",
   "execution_count": null,
   "metadata": {},
   "outputs": [],
   "source": []
  }
 ],
 "metadata": {
  "kernelspec": {
   "display_name": "venv",
   "language": "python",
   "name": "venv"
  },
  "language_info": {
   "codemirror_mode": {
    "name": "ipython",
    "version": 3
   },
   "file_extension": ".py",
   "mimetype": "text/x-python",
   "name": "python",
   "nbconvert_exporter": "python",
   "pygments_lexer": "ipython3",
   "version": "3.6.9"
  }
 },
 "nbformat": 4,
 "nbformat_minor": 2
}
